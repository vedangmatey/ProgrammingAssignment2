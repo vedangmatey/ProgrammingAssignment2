{
  "nbformat": 4,
  "nbformat_minor": 0,
  "metadata": {
    "colab": {
      "provenance": [],
      "authorship_tag": "ABX9TyMWrFelBOpqWJTg05tnG3m3",
      "include_colab_link": true
    },
    "kernelspec": {
      "name": "python3",
      "display_name": "Python 3"
    },
    "language_info": {
      "name": "python"
    }
  },
  "cells": [
    {
      "cell_type": "markdown",
      "metadata": {
        "id": "view-in-github",
        "colab_type": "text"
      },
      "source": [
        "<a href=\"https://colab.research.google.com/github/vedangmatey/ProgrammingAssignment2/blob/master/Assignment1.ipynb\" target=\"_parent\"><img src=\"https://colab.research.google.com/assets/colab-badge.svg\" alt=\"Open In Colab\"/></a>"
      ]
    },
    {
      "cell_type": "code",
      "source": [
        "from math import e"
      ],
      "metadata": {
        "id": "WT47dKgPZrLJ"
      },
      "execution_count": 27,
      "outputs": []
    },
    {
      "cell_type": "code",
      "execution_count": 28,
      "metadata": {
        "id": "6og098WBVqRi"
      },
      "outputs": [],
      "source": [
        "def func(x):\n",
        "  return x * e**x"
      ]
    },
    {
      "cell_type": "code",
      "source": [
        "func(1)"
      ],
      "metadata": {
        "colab": {
          "base_uri": "https://localhost:8080/"
        },
        "id": "9Z8ri0-LZY6P",
        "outputId": "2569345f-dd08-4e8e-e9a9-e9393cf83009"
      },
      "execution_count": 29,
      "outputs": [
        {
          "output_type": "execute_result",
          "data": {
            "text/plain": [
              "2.718281828459045"
            ]
          },
          "metadata": {},
          "execution_count": 29
        }
      ]
    },
    {
      "cell_type": "code",
      "source": [
        "def func_prime(x):\n",
        "  return e**x + func(x)"
      ],
      "metadata": {
        "id": "668r43FIZbnl"
      },
      "execution_count": 30,
      "outputs": []
    },
    {
      "cell_type": "code",
      "source": [
        "func_prime(1)"
      ],
      "metadata": {
        "colab": {
          "base_uri": "https://localhost:8080/"
        },
        "id": "qu9nIBN1aEt_",
        "outputId": "e57c0b08-3d7f-45d9-cd79-0ef251ab50d5"
      },
      "execution_count": 31,
      "outputs": [
        {
          "output_type": "execute_result",
          "data": {
            "text/plain": [
              "5.43656365691809"
            ]
          },
          "metadata": {},
          "execution_count": 31
        }
      ]
    },
    {
      "cell_type": "code",
      "source": [
        "def find():\n",
        "  x = 1\n",
        "  f = round(func(x))\n",
        "  while(f!=20):\n",
        "    x = x + ((20 - func(x))/func_prime(x))\n",
        "    f = round(func(x))\n",
        "    print(f'x = {x} \\t f = {f}')\n",
        "\n",
        "  print(f'\\n\\nx = {x}')\n",
        "  return"
      ],
      "metadata": {
        "id": "hvJO0xQBaILM"
      },
      "execution_count": 40,
      "outputs": []
    },
    {
      "cell_type": "code",
      "source": [
        "find()"
      ],
      "metadata": {
        "colab": {
          "base_uri": "https://localhost:8080/"
        },
        "id": "XW-_F3M1bC1S",
        "outputId": "991744a7-c990-416f-cb36-94fa7762b671"
      },
      "execution_count": 41,
      "outputs": [
        {
          "output_type": "stream",
          "name": "stdout",
          "text": [
            "x = 4.178794411714423 \t f = 273\n",
            "x = 3.431042163595488 \t f = 106\n",
            "x = 2.8027524873679006 \t f = 46\n",
            "x = 2.384662113127286 \t f = 26\n",
            "x = 2.2244511127014137 \t f = 21\n",
            "x = 2.2052490607772275 \t f = 20\n",
            "\n",
            "\n",
            "x = 2.2052490607772275\n"
          ]
        }
      ]
    },
    {
      "cell_type": "code",
      "source": [],
      "metadata": {
        "id": "ctmjwAxUbFTv"
      },
      "execution_count": null,
      "outputs": []
    },
    {
      "cell_type": "code",
      "source": [],
      "metadata": {
        "id": "wmWFulVEeheo"
      },
      "execution_count": null,
      "outputs": []
    }
  ]
}